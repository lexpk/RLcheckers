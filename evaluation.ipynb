{
 "cells": [
  {
   "cell_type": "code",
   "execution_count": 1,
   "metadata": {},
   "outputs": [],
   "source": [
    "from MCTD import MCTD\n",
    "\n",
    "from position import Position\n",
    "from checkers import RandomPlayer, Game\n",
    "\n",
    "p = MCTD.from_file(\"init.ckpt\")\n",
    "r = RandomPlayer()\n",
    "game = Game(r.move(r.move(Position(), 0), 0))"
   ]
  },
  {
   "cell_type": "code",
   "execution_count": 5,
   "metadata": {},
   "outputs": [
    {
     "name": "stdout",
     "output_type": "stream",
     "text": [
      "         9572888 function calls (8560125 primitive calls) in 22.712 seconds\n",
      "\n",
      "   Ordered by: cumulative time\n",
      "   List reduced from 266 to 10 due to restriction <10>\n",
      "\n",
      "   ncalls  tottime  percall  cumtime  percall filename:lineno(function)\n",
      "   4297/5    0.046    0.000   22.715    4.543 MCTD.py:105(expand)\n",
      "  8363/31    0.087    0.000   22.714    0.733 MCTD.py:143(eval)\n",
      "     4075    0.008    0.000   21.593    0.005 MCTD.py:31(forward)\n",
      "501225/4075    0.399    0.000   21.580    0.005 module.py:1549(_wrapped_call_impl)\n",
      "501225/4075    0.825    0.000   21.575    0.005 module.py:1555(_call_impl)\n",
      "     4075    0.080    0.000   21.557    0.005 evaluator.py:20(forward)\n",
      "    32600    0.972    0.000   21.086    0.001 evaluator.py:48(forward)\n",
      "    32600    1.330    0.000   13.020    0.000 evaluator.py:72(forward)\n",
      "   199675    0.211    0.000    5.468    0.000 linear.py:116(forward)\n",
      "   199675    5.133    0.000    5.133    0.000 {built-in method torch._C._nn.linear}\n",
      "\n",
      "\n"
     ]
    },
    {
     "data": {
      "text/plain": [
       "<pstats.Stats at 0x7fa8d7b69160>"
      ]
     },
     "execution_count": 5,
     "metadata": {},
     "output_type": "execute_result"
    }
   ],
   "source": [
    "from cProfile import Profile\n",
    "from pstats import Stats\n",
    "\n",
    "prof = Profile()\n",
    "prof.runcall(game.next, p, time=1)\n",
    "Stats(prof).strip_dirs().sort_stats(\"cumulative\").print_stats(10)"
   ]
  },
  {
   "cell_type": "code",
   "execution_count": 1,
   "metadata": {},
   "outputs": [],
   "source": [
    "from evaluator import Evaluator\n",
    "\n",
    "evaluator = Evaluator.load(\"init.ckpt\")"
   ]
  },
  {
   "cell_type": "code",
   "execution_count": 2,
   "metadata": {},
   "outputs": [],
   "source": [
    "from position import PositionDataset\n",
    "\n",
    "dataset = PositionDataset.load(\"game_init.ckpt_1_1731673048.3258517.pt\")"
   ]
  },
  {
   "cell_type": "code",
   "execution_count": 16,
   "metadata": {},
   "outputs": [],
   "source": [
    "import torch\n",
    "import os\n",
    "\n",
    "data_list = [\n",
    "    torch.load(f\"./games/stage_1/{file}\", weights_only=True)\n",
    "    for file in os.listdir(f\"./games/stage_1\")\n",
    "]\n",
    "dataset = PositionDataset(\n",
    "    torch.cat([data[0] for data in data_list]),\n",
    "    torch.cat([data[1] for data in data_list])\n",
    ")"
   ]
  },
  {
   "cell_type": "code",
   "execution_count": 19,
   "metadata": {},
   "outputs": [
    {
     "data": {
      "text/plain": [
       "tensor([0.4514, 0.5167, 0.4868, 0.5147, 0.4836, 0.5183, 0.4801, 0.5217, 0.4731,\n",
       "        0.5418, 0.4502, 0.5649, 0.4197, 0.5763, 0.4282, 0.5926, 0.3844, 0.6413,\n",
       "        0.3599, 0.6647, 0.3275, 0.6812, 0.3092, 0.7267, 0.2701, 0.7334, 0.2736,\n",
       "        0.7258, 0.2916, 0.7002, 0.3088, 0.6811, 0.3272, 0.6721, 0.3408, 0.6392,\n",
       "        0.3686, 0.6371, 0.3773, 0.6103, 0.4107, 0.5964, 0.3897, 0.6349, 0.3472,\n",
       "        0.6857, 0.3025, 0.7106, 0.3133, 0.6712, 0.3461, 0.6439, 0.3729, 0.6417,\n",
       "        0.3610, 0.6702, 0.3223, 0.6960, 0.3049, 0.7074, 0.3051, 0.7271, 0.2697,\n",
       "        0.7557, 0.2429, 0.7743, 0.2317, 0.7875, 0.1956, 0.8439, 0.1475, 0.8890,\n",
       "        0.1111, 0.8830, 0.1235, 0.8693, 0.1407, 0.8527, 0.1576, 0.8311, 0.1847,\n",
       "        0.8039, 0.2139, 0.7718, 0.2455, 0.7685, 0.2374, 0.7735, 0.2354, 0.7865,\n",
       "        0.2151, 0.8019, 0.2042, 0.7846, 0.2317, 0.7554, 0.2626, 0.7380, 0.2727,\n",
       "        0.7461, 0.2674, 0.7326, 0.2821, 0.7265, 0.2950, 0.7050, 0.3179, 0.6815,\n",
       "        0.3435, 0.6492, 0.3754, 0.6124, 0.4190, 0.5722, 0.4622, 0.5119, 0.5273,\n",
       "        0.4579, 0.5843, 0.3903, 0.6555])"
      ]
     },
     "execution_count": 19,
     "metadata": {},
     "output_type": "execute_result"
    }
   ],
   "source": [
    "data_list[0][1]"
   ]
  },
  {
   "cell_type": "code",
   "execution_count": 1,
   "metadata": {},
   "outputs": [],
   "source": [
    "from MCTD import MCTD\n",
    "from checkers import Game, RandomPlayer\n",
    "from cengines import Easy"
   ]
  },
  {
   "cell_type": "code",
   "execution_count": 2,
   "metadata": {},
   "outputs": [],
   "source": [
    "p1 = MCTD.from_file(\"Game100\")\n",
    "p2 = MCTD.from_file(\"Game300\")\n",
    "game = Game()\n",
    "game.simulate(p1, p2)"
   ]
  },
  {
   "cell_type": "code",
   "execution_count": 2,
   "metadata": {},
   "outputs": [],
   "source": [
    "players = {\n",
    "    \"bootstrapped\" : MCTD.from_file(\"bootstrapped_100000_10000\"),\n",
    "    \"endgame\" : MCTD.from_file(\"Endgame10\"),\n",
    "    \"100games\" : MCTD.from_file(\"Game100\"),\n",
    "    \"200games\" : MCTD.from_file(\"Game200\"),\n",
    "    \"300games\" : MCTD.from_file(\"Game300\"),\n",
    "    \"random\" : RandomPlayer(),\n",
    "    \"easy\" : Easy()\n",
    "}"
   ]
  },
  {
   "cell_type": "code",
   "execution_count": null,
   "metadata": {},
   "outputs": [],
   "source": [
    "results = [['x' for _ in range(7)] for _ in range(7)]\n",
    "for i, p1 in enumerate(players.values()):\n",
    "    for j, p2 in enumerate(players.values()):\n",
    "        if i == j:\n",
    "            continue\n",
    "        else:\n",
    "            game = Game()\n",
    "            game.simulate(p1, p2, 0.5, rendering=True)\n",
    "            results[i][j] = f\"{(game.result + 1)/2}\""
   ]
  },
  {
   "cell_type": "code",
   "execution_count": 33,
   "metadata": {},
   "outputs": [
    {
     "data": {
      "application/vnd.plotly.v1+json": {
       "config": {
        "plotlyServerURL": "https://plot.ly"
       },
       "data": [
        {
         "cells": {
          "align": [
           "left",
           "center"
          ],
          "fill": {
           "color": [
            "green",
            "white"
           ]
          },
          "font": {
           "size": 12
          },
          "height": 30,
          "line": {
           "color": "darkslategray"
          },
          "values": [
           [
            "bootstrapped",
            "endgame",
            "100games",
            "200games",
            "300games",
            "random",
            "easy"
           ],
           [
            "x",
            "0.0",
            "0.0",
            "0.0",
            "0.0",
            "0.0",
            "0.5"
           ],
           [
            "1.0",
            "x",
            "1.0",
            "1.0",
            "0.5",
            "0.5",
            "1.0"
           ],
           [
            "1.0",
            "0.0",
            "x",
            "0.5",
            "0.0",
            "0.0",
            "1.0"
           ],
           [
            "1.0",
            "0.0",
            "0.5",
            "x",
            "1.0",
            "0.0",
            "1.0"
           ],
           [
            "1.0",
            "0.5",
            "0.5",
            "1.0",
            "x",
            "0.0",
            "1.0"
           ],
           [
            "1.0",
            "0.0",
            [
             "1.0"
            ],
            "0.5",
            [
             "1.0"
            ],
            "x",
            "1.0"
           ],
           [
            "0.5",
            "0.0",
            "0.0",
            "0.0",
            "0.0",
            "0.0",
            "x"
           ]
          ]
         },
         "header": {
          "align": [
           "left",
           "center"
          ],
          "fill": {
           "color": "green"
          },
          "font": {
           "color": "white",
           "size": 12
          },
          "height": 40,
          "line": {
           "color": "darkslategray"
          },
          "values": [
           "<b>Results</b>",
           "bootstrapped",
           "endgame",
           "100games",
           "200games",
           "300games",
           "random",
           "easy"
          ]
         },
         "type": "table"
        }
       ],
       "layout": {
        "height": 500,
        "template": {
         "data": {
          "bar": [
           {
            "error_x": {
             "color": "#2a3f5f"
            },
            "error_y": {
             "color": "#2a3f5f"
            },
            "marker": {
             "line": {
              "color": "#E5ECF6",
              "width": 0.5
             },
             "pattern": {
              "fillmode": "overlay",
              "size": 10,
              "solidity": 0.2
             }
            },
            "type": "bar"
           }
          ],
          "barpolar": [
           {
            "marker": {
             "line": {
              "color": "#E5ECF6",
              "width": 0.5
             },
             "pattern": {
              "fillmode": "overlay",
              "size": 10,
              "solidity": 0.2
             }
            },
            "type": "barpolar"
           }
          ],
          "carpet": [
           {
            "aaxis": {
             "endlinecolor": "#2a3f5f",
             "gridcolor": "white",
             "linecolor": "white",
             "minorgridcolor": "white",
             "startlinecolor": "#2a3f5f"
            },
            "baxis": {
             "endlinecolor": "#2a3f5f",
             "gridcolor": "white",
             "linecolor": "white",
             "minorgridcolor": "white",
             "startlinecolor": "#2a3f5f"
            },
            "type": "carpet"
           }
          ],
          "choropleth": [
           {
            "colorbar": {
             "outlinewidth": 0,
             "ticks": ""
            },
            "type": "choropleth"
           }
          ],
          "contour": [
           {
            "colorbar": {
             "outlinewidth": 0,
             "ticks": ""
            },
            "colorscale": [
             [
              0,
              "#0d0887"
             ],
             [
              0.1111111111111111,
              "#46039f"
             ],
             [
              0.2222222222222222,
              "#7201a8"
             ],
             [
              0.3333333333333333,
              "#9c179e"
             ],
             [
              0.4444444444444444,
              "#bd3786"
             ],
             [
              0.5555555555555556,
              "#d8576b"
             ],
             [
              0.6666666666666666,
              "#ed7953"
             ],
             [
              0.7777777777777778,
              "#fb9f3a"
             ],
             [
              0.8888888888888888,
              "#fdca26"
             ],
             [
              1,
              "#f0f921"
             ]
            ],
            "type": "contour"
           }
          ],
          "contourcarpet": [
           {
            "colorbar": {
             "outlinewidth": 0,
             "ticks": ""
            },
            "type": "contourcarpet"
           }
          ],
          "heatmap": [
           {
            "colorbar": {
             "outlinewidth": 0,
             "ticks": ""
            },
            "colorscale": [
             [
              0,
              "#0d0887"
             ],
             [
              0.1111111111111111,
              "#46039f"
             ],
             [
              0.2222222222222222,
              "#7201a8"
             ],
             [
              0.3333333333333333,
              "#9c179e"
             ],
             [
              0.4444444444444444,
              "#bd3786"
             ],
             [
              0.5555555555555556,
              "#d8576b"
             ],
             [
              0.6666666666666666,
              "#ed7953"
             ],
             [
              0.7777777777777778,
              "#fb9f3a"
             ],
             [
              0.8888888888888888,
              "#fdca26"
             ],
             [
              1,
              "#f0f921"
             ]
            ],
            "type": "heatmap"
           }
          ],
          "heatmapgl": [
           {
            "colorbar": {
             "outlinewidth": 0,
             "ticks": ""
            },
            "colorscale": [
             [
              0,
              "#0d0887"
             ],
             [
              0.1111111111111111,
              "#46039f"
             ],
             [
              0.2222222222222222,
              "#7201a8"
             ],
             [
              0.3333333333333333,
              "#9c179e"
             ],
             [
              0.4444444444444444,
              "#bd3786"
             ],
             [
              0.5555555555555556,
              "#d8576b"
             ],
             [
              0.6666666666666666,
              "#ed7953"
             ],
             [
              0.7777777777777778,
              "#fb9f3a"
             ],
             [
              0.8888888888888888,
              "#fdca26"
             ],
             [
              1,
              "#f0f921"
             ]
            ],
            "type": "heatmapgl"
           }
          ],
          "histogram": [
           {
            "marker": {
             "pattern": {
              "fillmode": "overlay",
              "size": 10,
              "solidity": 0.2
             }
            },
            "type": "histogram"
           }
          ],
          "histogram2d": [
           {
            "colorbar": {
             "outlinewidth": 0,
             "ticks": ""
            },
            "colorscale": [
             [
              0,
              "#0d0887"
             ],
             [
              0.1111111111111111,
              "#46039f"
             ],
             [
              0.2222222222222222,
              "#7201a8"
             ],
             [
              0.3333333333333333,
              "#9c179e"
             ],
             [
              0.4444444444444444,
              "#bd3786"
             ],
             [
              0.5555555555555556,
              "#d8576b"
             ],
             [
              0.6666666666666666,
              "#ed7953"
             ],
             [
              0.7777777777777778,
              "#fb9f3a"
             ],
             [
              0.8888888888888888,
              "#fdca26"
             ],
             [
              1,
              "#f0f921"
             ]
            ],
            "type": "histogram2d"
           }
          ],
          "histogram2dcontour": [
           {
            "colorbar": {
             "outlinewidth": 0,
             "ticks": ""
            },
            "colorscale": [
             [
              0,
              "#0d0887"
             ],
             [
              0.1111111111111111,
              "#46039f"
             ],
             [
              0.2222222222222222,
              "#7201a8"
             ],
             [
              0.3333333333333333,
              "#9c179e"
             ],
             [
              0.4444444444444444,
              "#bd3786"
             ],
             [
              0.5555555555555556,
              "#d8576b"
             ],
             [
              0.6666666666666666,
              "#ed7953"
             ],
             [
              0.7777777777777778,
              "#fb9f3a"
             ],
             [
              0.8888888888888888,
              "#fdca26"
             ],
             [
              1,
              "#f0f921"
             ]
            ],
            "type": "histogram2dcontour"
           }
          ],
          "mesh3d": [
           {
            "colorbar": {
             "outlinewidth": 0,
             "ticks": ""
            },
            "type": "mesh3d"
           }
          ],
          "parcoords": [
           {
            "line": {
             "colorbar": {
              "outlinewidth": 0,
              "ticks": ""
             }
            },
            "type": "parcoords"
           }
          ],
          "pie": [
           {
            "automargin": true,
            "type": "pie"
           }
          ],
          "scatter": [
           {
            "marker": {
             "colorbar": {
              "outlinewidth": 0,
              "ticks": ""
             }
            },
            "type": "scatter"
           }
          ],
          "scatter3d": [
           {
            "line": {
             "colorbar": {
              "outlinewidth": 0,
              "ticks": ""
             }
            },
            "marker": {
             "colorbar": {
              "outlinewidth": 0,
              "ticks": ""
             }
            },
            "type": "scatter3d"
           }
          ],
          "scattercarpet": [
           {
            "marker": {
             "colorbar": {
              "outlinewidth": 0,
              "ticks": ""
             }
            },
            "type": "scattercarpet"
           }
          ],
          "scattergeo": [
           {
            "marker": {
             "colorbar": {
              "outlinewidth": 0,
              "ticks": ""
             }
            },
            "type": "scattergeo"
           }
          ],
          "scattergl": [
           {
            "marker": {
             "colorbar": {
              "outlinewidth": 0,
              "ticks": ""
             }
            },
            "type": "scattergl"
           }
          ],
          "scattermapbox": [
           {
            "marker": {
             "colorbar": {
              "outlinewidth": 0,
              "ticks": ""
             }
            },
            "type": "scattermapbox"
           }
          ],
          "scatterpolar": [
           {
            "marker": {
             "colorbar": {
              "outlinewidth": 0,
              "ticks": ""
             }
            },
            "type": "scatterpolar"
           }
          ],
          "scatterpolargl": [
           {
            "marker": {
             "colorbar": {
              "outlinewidth": 0,
              "ticks": ""
             }
            },
            "type": "scatterpolargl"
           }
          ],
          "scatterternary": [
           {
            "marker": {
             "colorbar": {
              "outlinewidth": 0,
              "ticks": ""
             }
            },
            "type": "scatterternary"
           }
          ],
          "surface": [
           {
            "colorbar": {
             "outlinewidth": 0,
             "ticks": ""
            },
            "colorscale": [
             [
              0,
              "#0d0887"
             ],
             [
              0.1111111111111111,
              "#46039f"
             ],
             [
              0.2222222222222222,
              "#7201a8"
             ],
             [
              0.3333333333333333,
              "#9c179e"
             ],
             [
              0.4444444444444444,
              "#bd3786"
             ],
             [
              0.5555555555555556,
              "#d8576b"
             ],
             [
              0.6666666666666666,
              "#ed7953"
             ],
             [
              0.7777777777777778,
              "#fb9f3a"
             ],
             [
              0.8888888888888888,
              "#fdca26"
             ],
             [
              1,
              "#f0f921"
             ]
            ],
            "type": "surface"
           }
          ],
          "table": [
           {
            "cells": {
             "fill": {
              "color": "#EBF0F8"
             },
             "line": {
              "color": "white"
             }
            },
            "header": {
             "fill": {
              "color": "#C8D4E3"
             },
             "line": {
              "color": "white"
             }
            },
            "type": "table"
           }
          ]
         },
         "layout": {
          "annotationdefaults": {
           "arrowcolor": "#2a3f5f",
           "arrowhead": 0,
           "arrowwidth": 1
          },
          "autotypenumbers": "strict",
          "coloraxis": {
           "colorbar": {
            "outlinewidth": 0,
            "ticks": ""
           }
          },
          "colorscale": {
           "diverging": [
            [
             0,
             "#8e0152"
            ],
            [
             0.1,
             "#c51b7d"
            ],
            [
             0.2,
             "#de77ae"
            ],
            [
             0.3,
             "#f1b6da"
            ],
            [
             0.4,
             "#fde0ef"
            ],
            [
             0.5,
             "#f7f7f7"
            ],
            [
             0.6,
             "#e6f5d0"
            ],
            [
             0.7,
             "#b8e186"
            ],
            [
             0.8,
             "#7fbc41"
            ],
            [
             0.9,
             "#4d9221"
            ],
            [
             1,
             "#276419"
            ]
           ],
           "sequential": [
            [
             0,
             "#0d0887"
            ],
            [
             0.1111111111111111,
             "#46039f"
            ],
            [
             0.2222222222222222,
             "#7201a8"
            ],
            [
             0.3333333333333333,
             "#9c179e"
            ],
            [
             0.4444444444444444,
             "#bd3786"
            ],
            [
             0.5555555555555556,
             "#d8576b"
            ],
            [
             0.6666666666666666,
             "#ed7953"
            ],
            [
             0.7777777777777778,
             "#fb9f3a"
            ],
            [
             0.8888888888888888,
             "#fdca26"
            ],
            [
             1,
             "#f0f921"
            ]
           ],
           "sequentialminus": [
            [
             0,
             "#0d0887"
            ],
            [
             0.1111111111111111,
             "#46039f"
            ],
            [
             0.2222222222222222,
             "#7201a8"
            ],
            [
             0.3333333333333333,
             "#9c179e"
            ],
            [
             0.4444444444444444,
             "#bd3786"
            ],
            [
             0.5555555555555556,
             "#d8576b"
            ],
            [
             0.6666666666666666,
             "#ed7953"
            ],
            [
             0.7777777777777778,
             "#fb9f3a"
            ],
            [
             0.8888888888888888,
             "#fdca26"
            ],
            [
             1,
             "#f0f921"
            ]
           ]
          },
          "colorway": [
           "#636efa",
           "#EF553B",
           "#00cc96",
           "#ab63fa",
           "#FFA15A",
           "#19d3f3",
           "#FF6692",
           "#B6E880",
           "#FF97FF",
           "#FECB52"
          ],
          "font": {
           "color": "#2a3f5f"
          },
          "geo": {
           "bgcolor": "white",
           "lakecolor": "white",
           "landcolor": "#E5ECF6",
           "showlakes": true,
           "showland": true,
           "subunitcolor": "white"
          },
          "hoverlabel": {
           "align": "left"
          },
          "hovermode": "closest",
          "mapbox": {
           "style": "light"
          },
          "paper_bgcolor": "white",
          "plot_bgcolor": "#E5ECF6",
          "polar": {
           "angularaxis": {
            "gridcolor": "white",
            "linecolor": "white",
            "ticks": ""
           },
           "bgcolor": "#E5ECF6",
           "radialaxis": {
            "gridcolor": "white",
            "linecolor": "white",
            "ticks": ""
           }
          },
          "scene": {
           "xaxis": {
            "backgroundcolor": "#E5ECF6",
            "gridcolor": "white",
            "gridwidth": 2,
            "linecolor": "white",
            "showbackground": true,
            "ticks": "",
            "zerolinecolor": "white"
           },
           "yaxis": {
            "backgroundcolor": "#E5ECF6",
            "gridcolor": "white",
            "gridwidth": 2,
            "linecolor": "white",
            "showbackground": true,
            "ticks": "",
            "zerolinecolor": "white"
           },
           "zaxis": {
            "backgroundcolor": "#E5ECF6",
            "gridcolor": "white",
            "gridwidth": 2,
            "linecolor": "white",
            "showbackground": true,
            "ticks": "",
            "zerolinecolor": "white"
           }
          },
          "shapedefaults": {
           "line": {
            "color": "#2a3f5f"
           }
          },
          "ternary": {
           "aaxis": {
            "gridcolor": "white",
            "linecolor": "white",
            "ticks": ""
           },
           "baxis": {
            "gridcolor": "white",
            "linecolor": "white",
            "ticks": ""
           },
           "bgcolor": "#E5ECF6",
           "caxis": {
            "gridcolor": "white",
            "linecolor": "white",
            "ticks": ""
           }
          },
          "title": {
           "x": 0.05
          },
          "xaxis": {
           "automargin": true,
           "gridcolor": "white",
           "linecolor": "white",
           "ticks": "",
           "title": {
            "standoff": 15
           },
           "zerolinecolor": "white",
           "zerolinewidth": 2
          },
          "yaxis": {
           "automargin": true,
           "gridcolor": "white",
           "linecolor": "white",
           "ticks": "",
           "title": {
            "standoff": 15
           },
           "zerolinecolor": "white",
           "zerolinewidth": 2
          }
         }
        },
        "width": 1000
       }
      }
     },
     "metadata": {},
     "output_type": "display_data"
    }
   ],
   "source": [
    "import plotly.graph_objects as go\n",
    "fig = go.Figure(data=[go.Table(\n",
    "  header = dict(\n",
    "    values = ['<b>Results</b>'] + [k for k in players.keys()],\n",
    "    line_color='darkslategray',\n",
    "    fill_color='green',\n",
    "    align=['left','center'],\n",
    "    font=dict(color='white', size=12),\n",
    "    height=40,\n",
    "  ),\n",
    "  cells=dict(\n",
    "    values= [[k for k in players.keys()]] + [[results[i][j] for i in range(7)] for j in range(7)],\n",
    "    line_color='darkslategray',\n",
    "    fill=dict(color=['green', 'white']),\n",
    "    align=['left', 'center'],\n",
    "    font_size=12,\n",
    "    height=30,)\n",
    "    ),\n",
    "])\n",
    "fig.update_layout(width=1000, height=500)\n",
    "fig.show()"
   ]
  }
 ],
 "metadata": {
  "kernelspec": {
   "display_name": "foreduce",
   "language": "python",
   "name": "python3"
  },
  "language_info": {
   "codemirror_mode": {
    "name": "ipython",
    "version": 3
   },
   "file_extension": ".py",
   "mimetype": "text/x-python",
   "name": "python",
   "nbconvert_exporter": "python",
   "pygments_lexer": "ipython3",
   "version": "3.12.2"
  },
  "orig_nbformat": 4
 },
 "nbformat": 4,
 "nbformat_minor": 2
}
