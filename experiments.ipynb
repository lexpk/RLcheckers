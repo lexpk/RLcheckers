{
 "cells": [
  {
   "cell_type": "code",
   "execution_count": null,
   "metadata": {},
   "outputs": [
    {
     "ename": "",
     "evalue": "",
     "output_type": "error",
     "traceback": [
      "\u001b[1;31mRunning cells with 'base (Python 3.11.5)' requires the ipykernel package.\n",
      "\u001b[1;31mRun the following command to install 'ipykernel' into the Python environment. \n",
      "\u001b[1;31mCommand: 'conda install -n base ipykernel --update-deps --force-reinstall'"
     ]
    }
   ],
   "source": [
    "from MCTD import *\n",
    "from position import Position\n",
    "from checkers import Game"
   ]
  },
  {
   "cell_type": "code",
   "execution_count": 2,
   "metadata": {},
   "outputs": [
    {
     "name": "stdout",
     "output_type": "stream",
     "text": [
      " B     .     B     .    \n",
      "    .     .     .     . \n",
      " .     .     .     .    \n",
      "    .     .     .     . \n",
      " .     w     .     .    \n",
      "    W     .     .     b \n",
      " .     .     .     .    \n",
      "    W     .     b     . \n",
      "\n",
      "P1 EV: 0.7679002732038498\n",
      "P2 EV: 0.5\n"
     ]
    }
   ],
   "source": [
    "game = Game()\n",
    "player1 = MCTD.from_file(\"init.ckpt\")\n",
    "player2 = MCTD.from_file(\"stage7.ckpt\")\n",
    "game.simulate(player1, player2, 1)"
   ]
  }
 ],
 "metadata": {
  "kernelspec": {
   "display_name": "foreduce",
   "language": "python",
   "name": "python3"
  },
  "language_info": {
   "codemirror_mode": {
    "name": "ipython",
    "version": 3
   },
   "file_extension": ".py",
   "mimetype": "text/x-python",
   "name": "python",
   "nbconvert_exporter": "python",
   "pygments_lexer": "ipython3",
   "version": "3.12.2"
  },
  "orig_nbformat": 4
 },
 "nbformat": 4,
 "nbformat_minor": 2
}
