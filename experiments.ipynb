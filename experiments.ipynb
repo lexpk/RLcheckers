{
 "cells": [
  {
   "cell_type": "code",
   "execution_count": null,
   "metadata": {},
   "outputs": [],
   "source": [
    "from MCTD import *\n",
    "from checkers import Game"
   ]
  },
  {
   "cell_type": "code",
   "execution_count": null,
   "metadata": {},
   "outputs": [
    {
     "name": "stdout",
     "output_type": "stream",
     "text": [
      " .     .     .     .    \n",
      "    .     b     .     . \n",
      " .     .     .     .    \n",
      "    .     .     .     b \n",
      " B     .     .     .    \n",
      "    .     .     .     b \n",
      " b     .     .     b    \n",
      "    .     .     b     b \n",
      "\n",
      "P1 EV: 1\n",
      "P2 EV: 0\n"
     ]
    }
   ],
   "source": [
    "game = Game()\n",
    "player1 = MCTD.from_file(\"init.ckpt\")\n",
    "player2 = MCTD.from_file(\"stage7.ckpt\")\n",
    "game.simulate(player1, player2, 1)"
   ]
  }
 ],
 "metadata": {
  "kernelspec": {
   "display_name": "foreduce",
   "language": "python",
   "name": "python3"
  },
  "language_info": {
   "codemirror_mode": {
    "name": "ipython",
    "version": 3
   },
   "file_extension": ".py",
   "mimetype": "text/x-python",
   "name": "python",
   "nbconvert_exporter": "python",
   "pygments_lexer": "ipython3",
   "version": "3.12.2"
  },
  "orig_nbformat": 4
 },
 "nbformat": 4,
 "nbformat_minor": 2
}
